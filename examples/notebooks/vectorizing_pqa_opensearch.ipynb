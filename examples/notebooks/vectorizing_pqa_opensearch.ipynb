{
 "cells": [
  {
   "cell_type": "code",
   "execution_count": 1,
   "id": "0defff16-ce6c-4ebb-9356-1492f95fc5ee",
   "metadata": {
    "execution": {
     "iopub.execute_input": "2023-10-12T00:31:48.927700Z",
     "iopub.status.busy": "2023-10-12T00:31:48.927377Z",
     "iopub.status.idle": "2023-10-12T00:31:49.573027Z",
     "shell.execute_reply": "2023-10-12T00:31:49.572311Z",
     "shell.execute_reply.started": "2023-10-12T00:31:48.927680Z"
    }
   },
   "outputs": [],
   "source": [
    "from transformers import AutoTokenizer, AutoModel"
   ]
  },
  {
   "cell_type": "code",
   "execution_count": 2,
   "id": "7f68f498-d172-42cb-87fa-bb0293c88016",
   "metadata": {
    "execution": {
     "iopub.execute_input": "2023-10-12T00:31:50.678129Z",
     "iopub.status.busy": "2023-10-12T00:31:50.677703Z",
     "iopub.status.idle": "2023-10-12T00:31:50.681229Z",
     "shell.execute_reply": "2023-10-12T00:31:50.680630Z",
     "shell.execute_reply.started": "2023-10-12T00:31:50.678109Z"
    },
    "tags": []
   },
   "outputs": [],
   "source": [
    "from pyspark.sql.functions import *\n",
    "from pyspark.sql.types import *\n",
    "import requests\n",
    "import json"
   ]
  },
  {
   "cell_type": "code",
   "execution_count": 31,
   "id": "c752ed9d-0977-4e92-bf59-a06d3c420f3f",
   "metadata": {
    "execution": {
     "iopub.execute_input": "2023-10-12T01:08:34.738152Z",
     "iopub.status.busy": "2023-10-12T01:08:34.737596Z",
     "iopub.status.idle": "2023-10-12T01:08:34.740919Z",
     "shell.execute_reply": "2023-10-12T01:08:34.740393Z",
     "shell.execute_reply.started": "2023-10-12T01:08:34.738132Z"
    },
    "tags": []
   },
   "outputs": [],
   "source": [
    "opensearch_url = \"https://search-vector-db-lyyqoujvse7m6t32vwxjb2ui3i.us-east-1.es.amazonaws.com\"\n",
    "opensearch_user_name = \"OSMasterUser\"\n",
    "opensearch_password = \"AwS#OpenSearch1\""
   ]
  },
  {
   "cell_type": "code",
   "execution_count": 4,
   "id": "761681b3-b367-48c6-a4f8-4eb96f5beec0",
   "metadata": {
    "execution": {
     "iopub.execute_input": "2023-10-12T00:31:58.284213Z",
     "iopub.status.busy": "2023-10-12T00:31:58.283729Z",
     "iopub.status.idle": "2023-10-12T00:32:08.240260Z",
     "shell.execute_reply": "2023-10-12T00:32:08.239542Z",
     "shell.execute_reply.started": "2023-10-12T00:31:58.284193Z"
    },
    "tags": []
   },
   "outputs": [],
   "source": [
    "datasource = \"s3://amazon-pqa/amazon_pqa_computer_cases.json\"\n",
    "df_raw = spark.read.format(\"json\").load(datasource).limit(100)"
   ]
  },
  {
   "cell_type": "code",
   "execution_count": 5,
   "id": "97a136f8-18aa-4a23-be29-7a5731ff3e20",
   "metadata": {
    "execution": {
     "iopub.execute_input": "2023-10-12T00:32:13.099994Z",
     "iopub.status.busy": "2023-10-12T00:32:13.099506Z",
     "iopub.status.idle": "2023-10-12T00:32:13.106496Z",
     "shell.execute_reply": "2023-10-12T00:32:13.105923Z",
     "shell.execute_reply.started": "2023-10-12T00:32:13.099974Z"
    },
    "tags": []
   },
   "outputs": [
    {
     "name": "stdout",
     "output_type": "stream",
     "text": [
      "root\n",
      " |-- answer_aggregated: string (nullable = true)\n",
      " |-- answers: array (nullable = true)\n",
      " |    |-- element: struct (containsNull = true)\n",
      " |    |    |-- answer_text: string (nullable = true)\n",
      " |-- asin: string (nullable = true)\n",
      " |-- brand_name: string (nullable = true)\n",
      " |-- bullet_point1: string (nullable = true)\n",
      " |-- bullet_point2: string (nullable = true)\n",
      " |-- bullet_point3: string (nullable = true)\n",
      " |-- bullet_point4: string (nullable = true)\n",
      " |-- bullet_point5: string (nullable = true)\n",
      " |-- item_name: string (nullable = true)\n",
      " |-- product_description: string (nullable = true)\n",
      " |-- question_id: string (nullable = true)\n",
      " |-- question_text: string (nullable = true)\n",
      " |-- question_type: string (nullable = true)\n",
      "\n"
     ]
    }
   ],
   "source": [
    "df_raw.printSchema()"
   ]
  },
  {
   "cell_type": "code",
   "execution_count": 10,
   "id": "e6256548-4787-428b-a253-410a79b94031",
   "metadata": {
    "execution": {
     "iopub.execute_input": "2023-10-12T00:34:56.557841Z",
     "iopub.status.busy": "2023-10-12T00:34:56.557521Z",
     "iopub.status.idle": "2023-10-12T00:34:56.764087Z",
     "shell.execute_reply": "2023-10-12T00:34:56.763361Z",
     "shell.execute_reply.started": "2023-10-12T00:34:56.557823Z"
    },
    "tags": []
   },
   "outputs": [
    {
     "name": "stdout",
     "output_type": "stream",
     "text": [
      "+------------------------------------------------------------------------+\n",
      "|answers[0].answer_text                                                  |\n",
      "+------------------------------------------------------------------------+\n",
      "|yes it is.                                                              |\n",
      "|It doesn't come with any. But it can hold up to four 80mm fans i believe|\n",
      "+------------------------------------------------------------------------+\n",
      "\n"
     ]
    }
   ],
   "source": [
    "df_raw.select(df_raw.answers[0].answer_text).limit(2).show(truncate=False)"
   ]
  },
  {
   "cell_type": "code",
   "execution_count": 11,
   "id": "e5a759a2-1d78-42f6-8e90-c368965e8adb",
   "metadata": {
    "execution": {
     "iopub.execute_input": "2023-10-12T00:40:02.688926Z",
     "iopub.status.busy": "2023-10-12T00:40:02.688603Z",
     "iopub.status.idle": "2023-10-12T00:40:03.124944Z",
     "shell.execute_reply": "2023-10-12T00:40:03.124337Z",
     "shell.execute_reply.started": "2023-10-12T00:40:02.688907Z"
    },
    "tags": []
   },
   "outputs": [
    {
     "name": "stdout",
     "output_type": "stream",
     "text": [
      "+---------------+--------------------------------------------------------------------------------------------+------------------------------------------------------------------------+\n",
      "|question_id    |question_text                                                                               |answer_text                                                             |\n",
      "+---------------+--------------------------------------------------------------------------------------------+------------------------------------------------------------------------+\n",
      "|Tx350WMH6IV09J8|Clarification: reviews make me uncertain about this, the ml03b is micro atx correct? thanks.|yes it is.                                                              |\n",
      "|TxPFERD1HWC26S |How many fans does this case comes with                                                     |It doesn't come with any. But it can hold up to four 80mm fans i believe|\n",
      "+---------------+--------------------------------------------------------------------------------------------+------------------------------------------------------------------------+\n",
      "\n"
     ]
    }
   ],
   "source": [
    "df_raw.select(col(\"question_id\"),col(\"question_text\"),df_raw.answers[0].answer_text.alias(\"answer_text\")).limit(2).show(truncate=False)"
   ]
  },
  {
   "cell_type": "code",
   "execution_count": 12,
   "id": "906c9306-3629-4fb8-bcdc-b8609fdb333e",
   "metadata": {
    "execution": {
     "iopub.execute_input": "2023-10-12T00:40:07.227813Z",
     "iopub.status.busy": "2023-10-12T00:40:07.227333Z",
     "iopub.status.idle": "2023-10-12T00:40:07.240441Z",
     "shell.execute_reply": "2023-10-12T00:40:07.239851Z",
     "shell.execute_reply.started": "2023-10-12T00:40:07.227792Z"
    },
    "tags": []
   },
   "outputs": [],
   "source": [
    "df = df_raw.select(col(\"question_id\"),col(\"question_text\"),df_raw.answers[0].answer_text.alias(\"answer_text\"))"
   ]
  },
  {
   "cell_type": "code",
   "execution_count": 13,
   "id": "3503fff6-5179-4ec6-a576-431a48a5d4e0",
   "metadata": {
    "execution": {
     "iopub.execute_input": "2023-10-12T00:40:08.048120Z",
     "iopub.status.busy": "2023-10-12T00:40:08.047697Z",
     "iopub.status.idle": "2023-10-12T00:40:08.415560Z",
     "shell.execute_reply": "2023-10-12T00:40:08.414810Z",
     "shell.execute_reply.started": "2023-10-12T00:40:08.048101Z"
    },
    "tags": []
   },
   "outputs": [
    {
     "name": "stdout",
     "output_type": "stream",
     "text": [
      "+---------------+--------------------------------------------------------------------------------------------+------------------------------------------------------------------------+\n",
      "|question_id    |question_text                                                                               |answer_text                                                             |\n",
      "+---------------+--------------------------------------------------------------------------------------------+------------------------------------------------------------------------+\n",
      "|Tx350WMH6IV09J8|Clarification: reviews make me uncertain about this, the ml03b is micro atx correct? thanks.|yes it is.                                                              |\n",
      "|TxPFERD1HWC26S |How many fans does this case comes with                                                     |It doesn't come with any. But it can hold up to four 80mm fans i believe|\n",
      "+---------------+--------------------------------------------------------------------------------------------+------------------------------------------------------------------------+\n",
      "\n"
     ]
    }
   ],
   "source": [
    "df.limit(2).show(truncate=False)"
   ]
  },
  {
   "cell_type": "code",
   "execution_count": 14,
   "id": "7912f010-5257-4658-a982-eb3000d23832",
   "metadata": {
    "execution": {
     "iopub.execute_input": "2023-10-12T00:40:09.514328Z",
     "iopub.status.busy": "2023-10-12T00:40:09.513640Z",
     "iopub.status.idle": "2023-10-12T00:40:09.517542Z",
     "shell.execute_reply": "2023-10-12T00:40:09.516991Z",
     "shell.execute_reply.started": "2023-10-12T00:40:09.514304Z"
    },
    "tags": []
   },
   "outputs": [
    {
     "name": "stdout",
     "output_type": "stream",
     "text": [
      "root\n",
      " |-- question_id: string (nullable = true)\n",
      " |-- question_text: string (nullable = true)\n",
      " |-- answer_text: string (nullable = true)\n",
      "\n"
     ]
    }
   ],
   "source": [
    "df.printSchema()"
   ]
  },
  {
   "cell_type": "code",
   "execution_count": 15,
   "id": "27227f0f-6f78-4ce3-a8fa-930eea83dd8a",
   "metadata": {
    "execution": {
     "iopub.execute_input": "2023-10-12T00:40:10.278402Z",
     "iopub.status.busy": "2023-10-12T00:40:10.278082Z",
     "iopub.status.idle": "2023-10-12T00:40:11.257915Z",
     "shell.execute_reply": "2023-10-12T00:40:11.257270Z",
     "shell.execute_reply.started": "2023-10-12T00:40:10.278383Z"
    },
    "tags": []
   },
   "outputs": [
    {
     "data": {
      "text/plain": [
       "100"
      ]
     },
     "execution_count": 15,
     "metadata": {},
     "output_type": "execute_result"
    }
   ],
   "source": [
    "df.count()"
   ]
  },
  {
   "cell_type": "code",
   "execution_count": 16,
   "id": "308032d9-ea5b-4458-ad7e-c6a147eb5779",
   "metadata": {
    "execution": {
     "iopub.execute_input": "2023-10-12T00:40:19.224883Z",
     "iopub.status.busy": "2023-10-12T00:40:19.224555Z",
     "iopub.status.idle": "2023-10-12T00:40:19.231547Z",
     "shell.execute_reply": "2023-10-12T00:40:19.230993Z",
     "shell.execute_reply.started": "2023-10-12T00:40:19.224863Z"
    },
    "tags": []
   },
   "outputs": [],
   "source": [
    "import numpy as np\n",
    "\n",
    "def embed_func(df):\n",
    "    tokenizer = AutoTokenizer.from_pretrained(\"bert-base-uncased\")\n",
    "    model = AutoModel.from_pretrained(\"bert-base-uncased\")\n",
    "\n",
    "    #title_abs = [d.question_text + tokenizer.sep_token + d.answer_text  for idx, d in df.iterrows()]\n",
    "    title_abs = [d.question_text  for idx, d in df.iterrows()]\n",
    "\n",
    "    def chunks(lst, n):\n",
    "        \"\"\"Yield successive n-sized chunks from lst.\"\"\"\n",
    "        for i in range(0, len(lst), n):\n",
    "          yield lst[i:i + n]\n",
    "\n",
    "    batch_size = 20\n",
    "    embeddings_chunks = []\n",
    "    for c in chunks(title_abs, batch_size):\n",
    "        # preprocess the input\n",
    "        inputs = tokenizer(c, padding=True, truncation=True, return_tensors=\"pt\", max_length=512)\n",
    "        result = model(**inputs)\n",
    "        # take the first token in the batch as the embedding\n",
    "        embeddings = result.last_hidden_state[:, 0, :].cpu().detach().numpy()\n",
    "        embeddings_chunks.append(embeddings)\n",
    "\n",
    "    embeddings = np.concatenate(embeddings_chunks)\n",
    "\n",
    "    return_df = (\n",
    "        df[[\"question_id\",\"question_text\",\"answer_text\"]]\n",
    "        .assign(embedding=list(embeddings))\n",
    "    )\n",
    "    return return_df"
   ]
  },
  {
   "cell_type": "code",
   "execution_count": 17,
   "id": "90fefd13-4bf7-4ac7-a3a2-a6c1efd998ab",
   "metadata": {
    "execution": {
     "iopub.execute_input": "2023-10-12T00:40:25.185102Z",
     "iopub.status.busy": "2023-10-12T00:40:25.184641Z",
     "iopub.status.idle": "2023-10-12T00:40:38.670758Z",
     "shell.execute_reply": "2023-10-12T00:40:38.670159Z",
     "shell.execute_reply.started": "2023-10-12T00:40:25.185083Z"
    }
   },
   "outputs": [
    {
     "name": "stdout",
     "output_type": "stream",
     "text": [
      "+---------------+--------------------+--------------------+--------------------+\n",
      "|    question_id|       question_text|         answer_text|           embedding|\n",
      "+---------------+--------------------+--------------------+--------------------+\n",
      "|Tx2RE2SOAZVEVY8|How do I resolve ...|Did you load the ...|[-0.26896772, -0....|\n",
      "|Tx30YAFDRDBOHN9|Burning smell whe...|Jip. Just check t...|[0.061282303, 0.1...|\n",
      "| TxLX89NHS1LJMS|Has anyone else h...|Nope. Works as it...|[-0.10376623, 0.0...|\n",
      "|Tx2SEERIC2V38C6|Dose it have inst...|The instructions ...|[-0.24544035, 0.0...|\n",
      "|Tx3UQWJPNPV9313|What size is the ...|Hm, I seem to rem...|[-0.33658928, 0.2...|\n",
      "|Tx1M2ZC4N8J5BPN|In the product pi...|I don’t recall ho...|[-0.2180458, 0.21...|\n",
      "| TxLN2W3PTWJLG4|I see the fan att...|It is one speed o...|[-0.15246768, 0.1...|\n",
      "| TxGK7X8RU8A7GH|What style SD car...|small slot that a...|[-0.30430722, -0....|\n",
      "|Tx3SI9GG93GT7SC|What style SD car...|             MicroSD|[-0.30430722, -0....|\n",
      "|Tx1CVUCIT72Y1HN|Is this an authen...|Don’t know yet st...|[-0.27088362, 0.1...|\n",
      "| TxH740JUSJTYJQ|Can this case fit...|no the case wont ...|[-0.27373812, -0....|\n",
      "|Tx123PQOLANZTUP|Does this work wi...|It should the rpi...|[-0.24182786, -0....|\n",
      "|Tx1948CVEH4N9JT|When I plug in th...|Your power supply...|[-0.29166394, 0.1...|\n",
      "|Tx2IW8I87DJ48WQ|Anyone try this w...|Only compatible w...|[0.17012541, -0.1...|\n",
      "|Tx1FT2XJ5WU4SAW|Does the fan chan...|No, constant spee...|[-0.17845955, -0....|\n",
      "|Tx1SKGG32OTIRFH|Is the fan 30x30x...|The fan is closer...|[-0.41548032, -0....|\n",
      "| TxM390EN7KJYON|Can the dual fan ...|I think there is ...|[-0.4033434, -0.1...|\n",
      "|Tx1J0HU35NMCP21|Do you ahve to sp...|No soldering just...|[-0.25709423, 0.1...|\n",
      "|Tx3IW76GTFSC0V4|Does this case in...|No, it did not in...|[-0.12117612, 0.0...|\n",
      "| Tx46ISJ5KIHFFK|Does this come ei...|Yes. 2 120mm non-...|[-0.14456709, 0.0...|\n",
      "+---------------+--------------------+--------------------+--------------------+\n",
      "only showing top 20 rows\n",
      "\n"
     ]
    }
   ],
   "source": [
    "from pyspark.sql.types import StructType, StructField, StringType, ArrayType, FloatType\n",
    "from pyspark.sql.functions import spark_partition_id\n",
    "\n",
    "embed_schema = StructType(\n",
    "    [\n",
    "        StructField(\"question_id\", StringType(), True),\n",
    "        StructField(\"question_text\", StringType(), True),\n",
    "        StructField(\"answer_text\", StringType(), True),\n",
    "        StructField(\"embedding\", ArrayType(FloatType()), True)\n",
    "    ]\n",
    ")\n",
    "\n",
    "embed_df = (\n",
    "    df\n",
    "    .groupBy(spark_partition_id().alias(\"_pid\"))\n",
    "    .applyInPandas(embed_func, embed_schema)\n",
    ")\n",
    "\n",
    "embed_df.show()"
   ]
  },
  {
   "cell_type": "code",
   "execution_count": 18,
   "id": "c75ce5a0-1af7-4569-81d8-2edcbc23a236",
   "metadata": {
    "execution": {
     "iopub.execute_input": "2023-10-12T00:40:42.973821Z",
     "iopub.status.busy": "2023-10-12T00:40:42.973150Z",
     "iopub.status.idle": "2023-10-12T00:40:42.977004Z",
     "shell.execute_reply": "2023-10-12T00:40:42.976486Z",
     "shell.execute_reply.started": "2023-10-12T00:40:42.973800Z"
    }
   },
   "outputs": [
    {
     "name": "stdout",
     "output_type": "stream",
     "text": [
      "root\n",
      " |-- question_id: string (nullable = true)\n",
      " |-- question_text: string (nullable = true)\n",
      " |-- answer_text: string (nullable = true)\n",
      " |-- embedding: array (nullable = true)\n",
      " |    |-- element: float (containsNull = true)\n",
      "\n"
     ]
    }
   ],
   "source": [
    "embed_df.printSchema()"
   ]
  },
  {
   "cell_type": "code",
   "execution_count": 19,
   "id": "c0c956fa-fe11-4b96-bb2a-12da721f4e9b",
   "metadata": {
    "execution": {
     "iopub.execute_input": "2023-10-12T00:40:47.396678Z",
     "iopub.status.busy": "2023-10-12T00:40:47.396006Z",
     "iopub.status.idle": "2023-10-12T00:40:53.627693Z",
     "shell.execute_reply": "2023-10-12T00:40:53.626999Z",
     "shell.execute_reply.started": "2023-10-12T00:40:47.396652Z"
    },
    "tags": []
   },
   "outputs": [
    {
     "data": {
      "text/plain": [
       "100"
      ]
     },
     "execution_count": 19,
     "metadata": {},
     "output_type": "execute_result"
    }
   ],
   "source": [
    "embed_df.count()"
   ]
  },
  {
   "cell_type": "code",
   "execution_count": 20,
   "id": "8c1fbf40-10d4-44c5-b774-b564478ac677",
   "metadata": {
    "execution": {
     "iopub.execute_input": "2023-10-12T00:40:53.629549Z",
     "iopub.status.busy": "2023-10-12T00:40:53.628994Z",
     "iopub.status.idle": "2023-10-12T00:40:53.641067Z",
     "shell.execute_reply": "2023-10-12T00:40:53.640312Z",
     "shell.execute_reply.started": "2023-10-12T00:40:53.629522Z"
    },
    "tags": []
   },
   "outputs": [],
   "source": [
    "embed_df = embed_df.select(embed_df.question_id.alias(\"id\"),embed_df.question_text,embed_df.answer_text,embed_df.embedding)"
   ]
  },
  {
   "cell_type": "code",
   "execution_count": 21,
   "id": "233649cc-0e3e-443a-bc6e-d4a9985866a9",
   "metadata": {
    "execution": {
     "iopub.execute_input": "2023-10-12T00:40:53.642670Z",
     "iopub.status.busy": "2023-10-12T00:40:53.642143Z",
     "iopub.status.idle": "2023-10-12T00:40:57.521384Z",
     "shell.execute_reply": "2023-10-12T00:40:57.520780Z",
     "shell.execute_reply.started": "2023-10-12T00:40:53.642642Z"
    },
    "tags": []
   },
   "outputs": [
    {
     "name": "stdout",
     "output_type": "stream",
     "text": [
      "+---------------+--------------------+--------------------+--------------------+\n",
      "|             id|       question_text|         answer_text|           embedding|\n",
      "+---------------+--------------------+--------------------+--------------------+\n",
      "|Tx2RE2SOAZVEVY8|How do I resolve ...|Did you load the ...|[-0.26896772, -0....|\n",
      "|Tx30YAFDRDBOHN9|Burning smell whe...|Jip. Just check t...|[0.061282303, 0.1...|\n",
      "| TxLX89NHS1LJMS|Has anyone else h...|Nope. Works as it...|[-0.10376623, 0.0...|\n",
      "+---------------+--------------------+--------------------+--------------------+\n",
      "only showing top 3 rows\n",
      "\n"
     ]
    }
   ],
   "source": [
    "embed_df.show(3)"
   ]
  },
  {
   "cell_type": "code",
   "execution_count": 28,
   "id": "397d78e0-26ea-40b4-ad56-8a534aea94ad",
   "metadata": {
    "execution": {
     "iopub.execute_input": "2023-10-12T01:07:58.931687Z",
     "iopub.status.busy": "2023-10-12T01:07:58.931102Z",
     "iopub.status.idle": "2023-10-12T01:07:58.935263Z",
     "shell.execute_reply": "2023-10-12T01:07:58.934716Z",
     "shell.execute_reply.started": "2023-10-12T01:07:58.931665Z"
    },
    "tags": []
   },
   "outputs": [],
   "source": [
    "def loados(x):\n",
    "    \n",
    "    answer_text = x.answer_text\n",
    "    \n",
    "    upload_document_request_body = {\n",
    "        \"answer\": x.answer_text,\n",
    "        \"embedded_vector\": x.embedding,\n",
    "        \"question\": x.question_text\n",
    "    }\n",
    "    \n",
    "    upload_document_r = requests.post(opensearch_url + '/vector-index/_doc', auth=(opensearch_user_name, opensearch_password), headers= {'Content-type': 'application/json'}, data=json.dumps(upload_document_request_body))\n",
    "    return upload_document_r\n",
    "    #return json.dumps(upload_document_request_body)"
   ]
  },
  {
   "cell_type": "code",
   "execution_count": 32,
   "id": "74c1a856-8e9f-43e7-94e2-00981090452f",
   "metadata": {
    "execution": {
     "iopub.execute_input": "2023-10-12T01:08:42.356412Z",
     "iopub.status.busy": "2023-10-12T01:08:42.355834Z",
     "iopub.status.idle": "2023-10-12T01:08:42.359326Z",
     "shell.execute_reply": "2023-10-12T01:08:42.358795Z",
     "shell.execute_reply.started": "2023-10-12T01:08:42.356391Z"
    },
    "tags": []
   },
   "outputs": [],
   "source": [
    "rdd_test = embed_df.rdd.map(lambda os: loados(os))"
   ]
  },
  {
   "cell_type": "code",
   "execution_count": 33,
   "id": "6fadea4b-5b11-40ec-9961-5c33a6224302",
   "metadata": {
    "execution": {
     "iopub.execute_input": "2023-10-12T01:08:43.579073Z",
     "iopub.status.busy": "2023-10-12T01:08:43.578620Z",
     "iopub.status.idle": "2023-10-12T01:08:49.230690Z",
     "shell.execute_reply": "2023-10-12T01:08:49.230148Z",
     "shell.execute_reply.started": "2023-10-12T01:08:43.579053Z"
    },
    "tags": []
   },
   "outputs": [
    {
     "data": {
      "text/plain": [
       "[<Response [201]>, <Response [201]>, <Response [201]>]"
      ]
     },
     "execution_count": 33,
     "metadata": {},
     "output_type": "execute_result"
    }
   ],
   "source": [
    "rdd_test.take(3)"
   ]
  }
 ],
 "metadata": {
  "kernelspec": {
   "display_name": "PySpark (Kubernetes)",
   "language": "python",
   "name": "spark_python_kubernetes"
  },
  "language_info": {
   "codemirror_mode": {
    "name": "ipython",
    "version": 3
   },
   "file_extension": ".py",
   "mimetype": "text/x-python",
   "name": "python",
   "nbconvert_exporter": "python",
   "pygments_lexer": "ipython3",
   "version": "3.10.11"
  }
 },
 "nbformat": 4,
 "nbformat_minor": 5
}
